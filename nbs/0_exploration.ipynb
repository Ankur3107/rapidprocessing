{
 "cells": [
  {
   "cell_type": "code",
   "execution_count": 5,
   "metadata": {},
   "outputs": [],
   "source": [
    "#export\n",
    "from fastprogress import *\n",
    "from concurrent.futures import ProcessPoolExecutor\n",
    "import numpy as np\n",
    "import functools, operator"
   ]
  },
  {
   "cell_type": "code",
   "execution_count": 2,
   "metadata": {},
   "outputs": [],
   "source": [
    "#export\n",
    "from nbdev.showdoc import *"
   ]
  },
  {
   "cell_type": "code",
   "execution_count": 3,
   "metadata": {},
   "outputs": [],
   "source": [
    "#export\n",
    "def parallel(func, items, chunksize=None, max_workers=1):\n",
    "    '''This function use in parallel processing'''\n",
    "    \n",
    "    if isinstance(items, list):\n",
    "        if chunksize:\n",
    "            arr = [items[i: i+chunksize] for i in (range(0, len(items), chunksize))]\n",
    "        else:\n",
    "            chunksize = int(len(items)/max_workers)\n",
    "            arr = [items[i: i+chunksize] for i in (range(0, len(items), chunksize))]\n",
    "            \n",
    "    elif isinstance(items, np.ndarray):\n",
    "        if chunksize:\n",
    "            n_splits = int((items.shape[0]/chunksize)+0.5)\n",
    "            arr = np.array_split(items, n_splits)\n",
    "        else:\n",
    "            arr = np.array_split(items, max_workers)\n",
    "\n",
    "    if max_workers<2: results = list(progress_bar(map(func, enumerate(arr)), total=len(arr)))\n",
    "    else:\n",
    "        with ProcessPoolExecutor(max_workers=max_workers) as ex:\n",
    "            return list(progress_bar(ex.map(func, enumerate(arr)), total=len(arr)))\n",
    "    if any([o is not None for o in results]): return results"
   ]
  },
  {
   "cell_type": "code",
   "execution_count": 5,
   "metadata": {},
   "outputs": [],
   "source": [
    "#show_doc(parallel)"
   ]
  },
  {
   "cell_type": "code",
   "execution_count": 20,
   "metadata": {
    "scrolled": true
   },
   "outputs": [
    {
     "data": {
      "text/html": [
       "\n",
       "    <div>\n",
       "        <style>\n",
       "            /* Turns off some styling */\n",
       "            progress {\n",
       "                /* gets rid of default border in Firefox and Opera. */\n",
       "                border: none;\n",
       "                /* Needs to be in here for Safari polyfill so background images work as expected. */\n",
       "                background-size: auto;\n",
       "            }\n",
       "            .progress-bar-interrupted, .progress-bar-interrupted::-webkit-progress-bar {\n",
       "                background: #F44336;\n",
       "            }\n",
       "        </style>\n",
       "      <progress value='5' class='' max='5' style='width:300px; height:20px; vertical-align: middle;'></progress>\n",
       "      100.00% [5/5 00:00<00:00]\n",
       "    </div>\n",
       "    "
      ],
      "text/plain": [
       "<IPython.core.display.HTML object>"
      ]
     },
     "metadata": {},
     "output_type": "display_data"
    },
    {
     "data": {
      "text/plain": [
       "[array([0, array([0, 1])], dtype=object),\n",
       " array([1, array([4, 9])], dtype=object),\n",
       " array([4, array([16, 25])], dtype=object),\n",
       " array([9, array([36, 49])], dtype=object),\n",
       " array([16, array([64, 81])], dtype=object)]"
      ]
     },
     "execution_count": 20,
     "metadata": {},
     "output_type": "execute_result"
    }
   ],
   "source": [
    "#hide\n",
    "def squareme(x):\n",
    "    return np.power(x,2)\n",
    "\n",
    "items = np.array(list(range(10)))\n",
    "results = parallel(squareme, items, chunksize=2, max_workers=1)\n",
    "results"
   ]
  },
  {
   "cell_type": "code",
   "execution_count": 52,
   "metadata": {},
   "outputs": [
    {
     "data": {
      "text/plain": [
       "[0, 1, 4, 9, 16, 25, 36, 49, 64, 81]"
      ]
     },
     "execution_count": 52,
     "metadata": {},
     "output_type": "execute_result"
    }
   ],
   "source": [
    "#hide\n",
    "functools.reduce(operator.iconcat,[r[1].tolist() for r in results] , [])"
   ]
  },
  {
   "cell_type": "code",
   "execution_count": null,
   "metadata": {},
   "outputs": [],
   "source": [
    "#hide\n",
    "def squareme(x):\n",
    "    return np.power(x,1)\n",
    "\n",
    "items = list(range(10))\n",
    "results = parallel(squareme, items, chunksize=2, max_workers=4)\n",
    "results"
   ]
  },
  {
   "cell_type": "markdown",
   "metadata": {},
   "source": [
    "# Using Multi processing package"
   ]
  },
  {
   "cell_type": "markdown",
   "metadata": {},
   "source": [
    "### Example 1"
   ]
  },
  {
   "cell_type": "code",
   "execution_count": 25,
   "metadata": {},
   "outputs": [],
   "source": [
    "#export\n",
    "import time\n",
    "import random\n",
    "from tqdm.notebook import tqdm\n",
    "from multiprocessing import Pool, freeze_support, RLock\n",
    "import numpy as np\n",
    "\n",
    "def func(pid, n):\n",
    "\n",
    "    tqdm_text = \"#\" + \"{}\".format(pid).zfill(3)\n",
    "\n",
    "    current_sum = 0\n",
    "    with tqdm(total=n, desc=tqdm_text, position=pid+1) as pbar:\n",
    "        for i in range(1, n+1):\n",
    "            current_sum += i\n",
    "            time.sleep(0.05)\n",
    "            pbar.update(1)\n",
    "    \n",
    "    return current_sum\n",
    "\n",
    "def runme(func, items, workers=4):\n",
    "\n",
    "    freeze_support() # For Windows support\n",
    "\n",
    "    num_processes = workers\n",
    "    num_jobs = workers\n",
    "    random_seed = 3107\n",
    "    random.seed(random_seed) \n",
    "\n",
    "    pool = Pool(processes=num_processes, initargs=(RLock(),), initializer=tqdm.set_lock)\n",
    "\n",
    "    argument_list = items\n",
    "\n",
    "    jobs = [pool.apply_async(func, args=(n,)) for i, n in enumerate(argument_list)]\n",
    "    pool.close()\n",
    "    result_list = [job.get() for job in jobs]\n",
    "    return result_list"
   ]
  },
  {
   "cell_type": "code",
   "execution_count": 26,
   "metadata": {
    "scrolled": true
   },
   "outputs": [
    {
     "data": {
      "text/plain": [
       "[0,\n",
       " 1,\n",
       " 2,\n",
       " 3,\n",
       " 4,\n",
       " 5,\n",
       " 6,\n",
       " 7,\n",
       " 8,\n",
       " 9,\n",
       " 10,\n",
       " 11,\n",
       " 12,\n",
       " 13,\n",
       " 14,\n",
       " 15,\n",
       " 16,\n",
       " 17,\n",
       " 18,\n",
       " 19,\n",
       " 20,\n",
       " 21,\n",
       " 22,\n",
       " 23,\n",
       " 24,\n",
       " 25,\n",
       " 26,\n",
       " 27,\n",
       " 28,\n",
       " 29,\n",
       " 30,\n",
       " 31,\n",
       " 32,\n",
       " 33,\n",
       " 34,\n",
       " 35,\n",
       " 36,\n",
       " 37,\n",
       " 38,\n",
       " 39,\n",
       " 40,\n",
       " 41,\n",
       " 42,\n",
       " 43,\n",
       " 44,\n",
       " 45,\n",
       " 46,\n",
       " 47,\n",
       " 48,\n",
       " 49,\n",
       " 50,\n",
       " 51,\n",
       " 52,\n",
       " 53,\n",
       " 54,\n",
       " 55,\n",
       " 56,\n",
       " 57,\n",
       " 58,\n",
       " 59,\n",
       " 60,\n",
       " 61,\n",
       " 62,\n",
       " 63,\n",
       " 64,\n",
       " 65,\n",
       " 66,\n",
       " 67,\n",
       " 68,\n",
       " 69,\n",
       " 70,\n",
       " 71,\n",
       " 72,\n",
       " 73,\n",
       " 74,\n",
       " 75,\n",
       " 76,\n",
       " 77,\n",
       " 78,\n",
       " 79,\n",
       " 80,\n",
       " 81,\n",
       " 82,\n",
       " 83,\n",
       " 84,\n",
       " 85,\n",
       " 86,\n",
       " 87,\n",
       " 88,\n",
       " 89,\n",
       " 90,\n",
       " 91,\n",
       " 92,\n",
       " 93,\n",
       " 94,\n",
       " 95,\n",
       " 96,\n",
       " 97,\n",
       " 98,\n",
       " 99]"
      ]
     },
     "execution_count": 26,
     "metadata": {},
     "output_type": "execute_result"
    }
   ],
   "source": [
    "#export\n",
    "def squareme(x):\n",
    "    return np.power(x,1)\n",
    "\n",
    "items = list(range(100))\n",
    "runme(squareme, items)"
   ]
  },
  {
   "cell_type": "markdown",
   "metadata": {},
   "source": [
    "### Example 2"
   ]
  },
  {
   "cell_type": "code",
   "execution_count": 27,
   "metadata": {},
   "outputs": [
    {
     "name": "stderr",
     "output_type": "stream",
     "text": [
      "100%|██████████| 100/100 [00:23<00:00,  3.40it/s]"
     ]
    }
   ],
   "source": [
    "#hide\n",
    "import time\n",
    "import random\n",
    "from multiprocessing import Pool\n",
    "from tqdm import tqdm\n",
    "\n",
    "def squareme(x):\n",
    "    return np.power(x,1)\n",
    "\n",
    "pool = Pool(2)\n",
    "'''\n",
    "for _ in tqdm(pool.imap_unordered(myfunc, range(100)), total=100):\n",
    "    pass\n",
    "'''\n",
    "pbar = tqdm(total=100)\n",
    "def update(*a):\n",
    "    pbar.update()\n",
    "    # tqdm.write(str(a))\n",
    "for i in range(pbar.total):\n",
    "    pool.apply_async(squareme, args=(i,), callback=update)\n",
    "# tqdm.write('scheduled')\n",
    "pool.close()\n",
    "pool.join()"
   ]
  },
  {
   "cell_type": "code",
   "execution_count": null,
   "metadata": {},
   "outputs": [],
   "source": []
  },
  {
   "cell_type": "code",
   "execution_count": null,
   "metadata": {},
   "outputs": [],
   "source": []
  },
  {
   "cell_type": "code",
   "execution_count": 30,
   "metadata": {},
   "outputs": [],
   "source": [
    "#hide\n",
    "from p_tqdm import p_map"
   ]
  },
  {
   "cell_type": "code",
   "execution_count": 41,
   "metadata": {
    "scrolled": true
   },
   "outputs": [
    {
     "name": "stderr",
     "output_type": "stream",
     "text": [
      "\n",
      "100%|██████████| 100/100 [00:00<00:00, 282444.71it/s]\n"
     ]
    }
   ],
   "source": [
    "#hide\n",
    "def squareme(x):\n",
    "    return np.power(x,1)\n",
    "\n",
    "items = np.array(list(range(100)))\n",
    "\n",
    "results = p_map(squareme, items, num_cpus=4)"
   ]
  },
  {
   "cell_type": "code",
   "execution_count": null,
   "metadata": {},
   "outputs": [],
   "source": []
  },
  {
   "cell_type": "code",
   "execution_count": null,
   "metadata": {},
   "outputs": [],
   "source": []
  },
  {
   "cell_type": "code",
   "execution_count": 60,
   "metadata": {},
   "outputs": [
    {
     "data": {
      "application/vnd.jupyter.widget-view+json": {
       "model_id": "523d0be51ef1415db814e61e9435bd2d",
       "version_major": 2,
       "version_minor": 0
      },
      "text/plain": [
       "HBox(children=(FloatProgress(value=0.0), HTML(value='')))"
      ]
     },
     "metadata": {},
     "output_type": "display_data"
    },
    {
     "name": "stdout",
     "output_type": "stream",
     "text": [
      "\n"
     ]
    }
   ],
   "source": [
    "from multiprocessing import Pool\n",
    "from tqdm.notebook import tqdm\n",
    "\n",
    "def squareme(x):\n",
    "    return np.power(x,1)\n",
    "\n",
    "items = list(range(100000))\n",
    "chunksize = 1000\n",
    "\n",
    "arr = [items[i: i+chunksize] for i in (range(0, len(items), chunksize))]\n",
    "\n",
    "pool = Pool(processes=4)\n",
    "jobs = []\n",
    "for j in tqdm(pool.map(squareme, arr), total=len(arr)):\n",
    "    jobs.append(j)\n",
    "\n",
    "pool.close()"
   ]
  },
  {
   "cell_type": "code",
   "execution_count": null,
   "metadata": {},
   "outputs": [],
   "source": []
  },
  {
   "cell_type": "code",
   "execution_count": 3,
   "metadata": {},
   "outputs": [],
   "source": [
    "import multiprocessing\n",
    "multiprocessing.set_start_method('fork', force=True)\n",
    "\n",
    "from atpbar import register_reporter, find_reporter, flush\n",
    "import random,time\n",
    "from atpbar import atpbar\n",
    "\n",
    "def run_with_multiprocessing():\n",
    "    def task(n, name):\n",
    "        for i in atpbar(range(n), name=name):\n",
    "            time.sleep(0.0001)\n",
    "    def worker(reporter, task, queue):\n",
    "        register_reporter(reporter)\n",
    "        while True:\n",
    "            args = queue.get()\n",
    "            if args is None:\n",
    "                queue.task_done()\n",
    "                break\n",
    "            task(*args)\n",
    "            queue.task_done()\n",
    "    nprocesses = 4\n",
    "    ntasks = 10\n",
    "    reporter = find_reporter()\n",
    "    queue = multiprocessing.JoinableQueue()\n",
    "    for i in range(nprocesses):\n",
    "        p = multiprocessing.Process(target=worker, args=(reporter, task, queue))\n",
    "        p.start()\n",
    "    for i in range(ntasks):\n",
    "        name = 'task {}'.format(i)\n",
    "        n = random.randint(5, 100000)\n",
    "        queue.put((n, name))\n",
    "    for i in range(nprocesses):\n",
    "        queue.put(None)\n",
    "        queue.join()\n",
    "    flush()"
   ]
  },
  {
   "cell_type": "code",
   "execution_count": 4,
   "metadata": {
    "scrolled": true
   },
   "outputs": [
    {
     "data": {
      "application/vnd.jupyter.widget-view+json": {
       "model_id": "fc78a48f5ed64405a318671fe0933bd5",
       "version_major": 2,
       "version_minor": 0
      },
      "text/plain": [
       "VBox()"
      ]
     },
     "metadata": {},
     "output_type": "display_data"
    }
   ],
   "source": [
    "run_with_multiprocessing()"
   ]
  },
  {
   "cell_type": "code",
   "execution_count": null,
   "metadata": {},
   "outputs": [],
   "source": []
  },
  {
   "cell_type": "code",
   "execution_count": null,
   "metadata": {},
   "outputs": [],
   "source": []
  },
  {
   "cell_type": "code",
   "execution_count": null,
   "metadata": {},
   "outputs": [],
   "source": [
    "import multiprocessing\n",
    "multiprocessing.set_start_method('fork', force=True)\n",
    "\n",
    "from atpbar import register_reporter, find_reporter, flush\n",
    "import random,time\n",
    "from atpbar import atpbar\n",
    "\n",
    "def run_with_multiprocessing():\n",
    "    def task(n, name):\n",
    "        for i in atpbar(range(n), name=name):\n",
    "            time.sleep(0.0001)\n",
    "    def worker(reporter, task, queue):\n",
    "        register_reporter(reporter)\n",
    "        while True:\n",
    "            args = queue.get()\n",
    "            if args is None:\n",
    "                queue.task_done()\n",
    "                break\n",
    "            task(*args)\n",
    "            queue.task_done()\n",
    "    nprocesses = 4\n",
    "    ntasks = 10\n",
    "    reporter = find_reporter()\n",
    "    queue = multiprocessing.JoinableQueue()\n",
    "    for i in range(nprocesses):\n",
    "        p = multiprocessing.Process(target=worker, args=(reporter, task, queue))\n",
    "        p.start()\n",
    "    for i in range(ntasks):\n",
    "        name = 'task {}'.format(i)\n",
    "        n = random.randint(5, 100000)\n",
    "        queue.put((n, name))\n",
    "    for i in range(nprocesses):\n",
    "        queue.put(None)\n",
    "        queue.join()\n",
    "    flush()"
   ]
  },
  {
   "cell_type": "code",
   "execution_count": null,
   "metadata": {},
   "outputs": [],
   "source": []
  },
  {
   "cell_type": "markdown",
   "metadata": {},
   "source": [
    "## Decorated Concurrency"
   ]
  },
  {
   "cell_type": "code",
   "execution_count": 22,
   "metadata": {},
   "outputs": [],
   "source": [
    "from deco import concurrent"
   ]
  },
  {
   "cell_type": "code",
   "execution_count": 24,
   "metadata": {},
   "outputs": [],
   "source": [
    "@concurrent(processes=2)\n",
    "def sample_fn(items):\n",
    "    rs = []\n",
    "    for i in items:\n",
    "         rs.append(i*i)\n",
    "    return rs\n",
    "\n",
    "items = np.array(list(range(100)))\n",
    "results = sample_fn(items)"
   ]
  },
  {
   "cell_type": "code",
   "execution_count": 26,
   "metadata": {
    "scrolled": true
   },
   "outputs": [
    {
     "data": {
      "text/plain": [
       "([0,\n",
       "  1,\n",
       "  4,\n",
       "  9,\n",
       "  16,\n",
       "  25,\n",
       "  36,\n",
       "  49,\n",
       "  64,\n",
       "  81,\n",
       "  100,\n",
       "  121,\n",
       "  144,\n",
       "  169,\n",
       "  196,\n",
       "  225,\n",
       "  256,\n",
       "  289,\n",
       "  324,\n",
       "  361,\n",
       "  400,\n",
       "  441,\n",
       "  484,\n",
       "  529,\n",
       "  576,\n",
       "  625,\n",
       "  676,\n",
       "  729,\n",
       "  784,\n",
       "  841,\n",
       "  900,\n",
       "  961,\n",
       "  1024,\n",
       "  1089,\n",
       "  1156,\n",
       "  1225,\n",
       "  1296,\n",
       "  1369,\n",
       "  1444,\n",
       "  1521,\n",
       "  1600,\n",
       "  1681,\n",
       "  1764,\n",
       "  1849,\n",
       "  1936,\n",
       "  2025,\n",
       "  2116,\n",
       "  2209,\n",
       "  2304,\n",
       "  2401,\n",
       "  2500,\n",
       "  2601,\n",
       "  2704,\n",
       "  2809,\n",
       "  2916,\n",
       "  3025,\n",
       "  3136,\n",
       "  3249,\n",
       "  3364,\n",
       "  3481,\n",
       "  3600,\n",
       "  3721,\n",
       "  3844,\n",
       "  3969,\n",
       "  4096,\n",
       "  4225,\n",
       "  4356,\n",
       "  4489,\n",
       "  4624,\n",
       "  4761,\n",
       "  4900,\n",
       "  5041,\n",
       "  5184,\n",
       "  5329,\n",
       "  5476,\n",
       "  5625,\n",
       "  5776,\n",
       "  5929,\n",
       "  6084,\n",
       "  6241,\n",
       "  6400,\n",
       "  6561,\n",
       "  6724,\n",
       "  6889,\n",
       "  7056,\n",
       "  7225,\n",
       "  7396,\n",
       "  7569,\n",
       "  7744,\n",
       "  7921,\n",
       "  8100,\n",
       "  8281,\n",
       "  8464,\n",
       "  8649,\n",
       "  8836,\n",
       "  9025,\n",
       "  9216,\n",
       "  9409,\n",
       "  9604,\n",
       "  9801],\n",
       " [])"
      ]
     },
     "execution_count": 26,
     "metadata": {},
     "output_type": "execute_result"
    }
   ],
   "source": [
    "results.get()"
   ]
  },
  {
   "cell_type": "code",
   "execution_count": null,
   "metadata": {},
   "outputs": [],
   "source": []
  },
  {
   "cell_type": "markdown",
   "metadata": {},
   "source": [
    "## mantichora exploration"
   ]
  },
  {
   "cell_type": "code",
   "execution_count": 1,
   "metadata": {},
   "outputs": [],
   "source": [
    "import time, random\n",
    "from atpbar import atpbar\n",
    "from mantichora import mantichora"
   ]
  },
  {
   "cell_type": "code",
   "execution_count": 4,
   "metadata": {},
   "outputs": [],
   "source": [
    "def task_loop(name, ret=None):\n",
    "    n = random.randint(10000, 100000)\n",
    "    for i in atpbar(range(n), name=name):\n",
    "        time.sleep(0.0001)\n",
    "    return ret"
   ]
  },
  {
   "cell_type": "code",
   "execution_count": 5,
   "metadata": {},
   "outputs": [
    {
     "data": {
      "application/vnd.jupyter.widget-view+json": {
       "model_id": "786af88872e44911b56c4dba41af2f85",
       "version_major": 2,
       "version_minor": 0
      },
      "text/plain": [
       "VBox()"
      ]
     },
     "metadata": {},
     "output_type": "display_data"
    },
    {
     "name": "stdout",
     "output_type": "stream",
     "text": [
      "['result1', 'result2', 'result3', 'result4', 'result5', 'result6']\n"
     ]
    }
   ],
   "source": [
    "with mantichora(nworkers=3) as mcore:\n",
    "    mcore.run(task_loop, 'task', ret='result1')\n",
    "    mcore.run(task_loop, 'another task', ret='result2')\n",
    "    mcore.run(task_loop, 'still another task', ret='result3')\n",
    "    mcore.run(task_loop, 'yet another task', ret='result4')\n",
    "    mcore.run(task_loop, 'task again', ret='result5')\n",
    "    mcore.run(task_loop, 'more task', ret='result6')\n",
    "    results = mcore.returns()\n",
    "\n",
    "print(results)"
   ]
  },
  {
   "cell_type": "code",
   "execution_count": null,
   "metadata": {},
   "outputs": [],
   "source": []
  }
 ],
 "metadata": {
  "kernelspec": {
   "display_name": "Python 3.7.5 64-bit ('tf2_env': venv)",
   "language": "python",
   "name": "python37564bittf2envvenv9baad5f63bf544adb456767f347f0830"
  },
  "language_info": {
   "codemirror_mode": {
    "name": "ipython",
    "version": 3
   },
   "file_extension": ".py",
   "mimetype": "text/x-python",
   "name": "python",
   "nbconvert_exporter": "python",
   "pygments_lexer": "ipython3",
   "version": "3.7.5"
  }
 },
 "nbformat": 4,
 "nbformat_minor": 4
}
