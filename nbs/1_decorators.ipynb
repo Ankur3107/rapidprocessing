{
 "cells": [
  {
   "cell_type": "code",
   "execution_count": 10,
   "metadata": {},
   "outputs": [],
   "source": [
    "import numpy as np"
   ]
  },
  {
   "cell_type": "markdown",
   "metadata": {},
   "source": [
    "# decorator"
   ]
  },
  {
   "cell_type": "code",
   "execution_count": 11,
   "metadata": {},
   "outputs": [],
   "source": [
    "#export\n",
    "def do_multiprocessing(func):\n",
    "    def fn_wrapper(items):\n",
    "        arr = [items[i: i+3] for i in (range(0, len(items), 3))]\n",
    "        rs = []\n",
    "        for a in arr:\n",
    "            r = func(a)\n",
    "            rs.append(r)\n",
    "        return rs\n",
    "    return fn_wrapper\n",
    "\n",
    "@do_multiprocessing\n",
    "def sample_fn(items):\n",
    "    rs = []\n",
    "    for i in items:\n",
    "         rs.append(i*i)\n",
    "    return rs\n"
   ]
  },
  {
   "cell_type": "code",
   "execution_count": 12,
   "metadata": {},
   "outputs": [
    {
     "data": {
      "text/plain": [
       "[[0, 1, 4], [9, 16, 25], [36, 49, 64], [81]]"
      ]
     },
     "execution_count": 12,
     "metadata": {},
     "output_type": "execute_result"
    }
   ],
   "source": [
    "items = np.array(list(range(10)))\n",
    "sample_fn(items)"
   ]
  },
  {
   "cell_type": "markdown",
   "metadata": {},
   "source": [
    "# decorator with Parameters "
   ]
  },
  {
   "cell_type": "markdown",
   "metadata": {},
   "source": [
    "## 1. sample code"
   ]
  },
  {
   "cell_type": "code",
   "execution_count": 30,
   "metadata": {},
   "outputs": [
    {
     "data": {
      "text/plain": [
       "[0, 1, 4, 9, 16, 25, 36, 49, 64, 81]"
      ]
     },
     "execution_count": 30,
     "metadata": {},
     "output_type": "execute_result"
    }
   ],
   "source": [
    "#export\n",
    "import functools\n",
    "\n",
    "def multiplying(f_py=None, factor=1):\n",
    "    assert callable(f_py) or f_py is None\n",
    "    def _decorator(func):\n",
    "        @functools.wraps(func)\n",
    "        def wrapper(*args, **kwargs):\n",
    "            return factor * func(*args, **kwargs)\n",
    "        return wrapper\n",
    "    return _decorator(f_py) if callable(f_py) else _decorator\n",
    "\n",
    "\n",
    "@multiplying\n",
    "def sample_fn(items):\n",
    "    rs = []\n",
    "    for i in items:\n",
    "         rs.append(i*i)\n",
    "    return rs\n",
    "\n",
    "items = np.array(list(range(10)))\n",
    "sample_fn(items)"
   ]
  },
  {
   "cell_type": "code",
   "execution_count": 38,
   "metadata": {},
   "outputs": [
    {
     "data": {
      "text/plain": [
       "[[0, 1, 4], [9, 16, 25], [36, 49, 64], [81]]"
      ]
     },
     "execution_count": 38,
     "metadata": {},
     "output_type": "execute_result"
    }
   ],
   "source": [
    "#export\n",
    "import functools\n",
    "\n",
    "def do_multiprocessing_v2(f_py=None, chunksize=2):\n",
    "    assert callable(f_py) or f_py is None\n",
    "    def _decorator(func):\n",
    "        @functools.wraps(func)\n",
    "        def wrapper(*args, **kwargs):\n",
    "            arr = [items[i: i+chunksize] for i in (range(0, len(items), chunksize))]\n",
    "            rs = []\n",
    "            for a in arr:\n",
    "                r = func(a)\n",
    "                rs.append(r)\n",
    "            return rs\n",
    "        return wrapper\n",
    "    return _decorator(f_py) if callable(f_py) else _decorator\n",
    "\n",
    "@do_multiprocessing_v2(chunksize=3)\n",
    "def sample_fn(items):\n",
    "    rs = []\n",
    "    for i in items:\n",
    "         rs.append(i*i)\n",
    "    return rs\n",
    "\n",
    "items = np.array(list(range(10)))\n",
    "sample_fn(items)"
   ]
  },
  {
   "cell_type": "markdown",
   "metadata": {},
   "source": [
    "## example 2"
   ]
  },
  {
   "cell_type": "code",
   "execution_count": 1,
   "metadata": {},
   "outputs": [],
   "source": [
    "from fastprogress import *\n",
    "from concurrent.futures import ProcessPoolExecutor\n",
    "import numpy as np\n",
    "import functools, operator"
   ]
  },
  {
   "cell_type": "code",
   "execution_count": 4,
   "metadata": {},
   "outputs": [],
   "source": [
    "def helper_fn(func):\n",
    "    global inner_fn\n",
    "    def inner_fn(x):\n",
    "        i, x_i = x\n",
    "        return i, func(x_i)\n",
    "    return inner_fn\n",
    "\n",
    "def parallel(func, items, chunksize=None, max_workers=1):\n",
    "    \n",
    "    if isinstance(items, list):\n",
    "        if chunksize:\n",
    "            arr = [items[i: i+chunksize] for i in (range(0, len(items), chunksize))]\n",
    "        else:\n",
    "            chunksize = int(len(items)/max_workers)\n",
    "            arr = [items[i: i+chunksize] for i in (range(0, len(items), chunksize))]\n",
    "            \n",
    "    elif isinstance(items, np.ndarray):\n",
    "        if chunksize:\n",
    "            n_splits = int((items.shape[0]/chunksize)+0.5)\n",
    "            arr = np.array_split(items, n_splits)\n",
    "        else:\n",
    "            arr = np.array_split(items, max_workers)\n",
    "    \n",
    "    new_fn = helper_fn(func)\n",
    "    \n",
    "    if max_workers<2: results = list(progress_bar(map(new_fn, enumerate(arr)), total=len(arr)))\n",
    "    else:\n",
    "        with ProcessPoolExecutor(max_workers=max_workers) as ex:\n",
    "            return list(progress_bar(ex.map(new_fn, enumerate(arr)), total=len(arr)))\n",
    "    if any([o is not None for o in results]): return results"
   ]
  },
  {
   "cell_type": "code",
   "execution_count": 5,
   "metadata": {
    "scrolled": true
   },
   "outputs": [
    {
     "data": {
      "text/html": [
       "\n",
       "    <div>\n",
       "        <style>\n",
       "            /* Turns off some styling */\n",
       "            progress {\n",
       "                /* gets rid of default border in Firefox and Opera. */\n",
       "                border: none;\n",
       "                /* Needs to be in here for Safari polyfill so background images work as expected. */\n",
       "                background-size: auto;\n",
       "            }\n",
       "            .progress-bar-interrupted, .progress-bar-interrupted::-webkit-progress-bar {\n",
       "                background: #F44336;\n",
       "            }\n",
       "        </style>\n",
       "      <progress value='2' class='' max='2' style='width:300px; height:20px; vertical-align: middle;'></progress>\n",
       "      100.00% [2/2 00:00<00:00]\n",
       "    </div>\n",
       "    "
      ],
      "text/plain": [
       "<IPython.core.display.HTML object>"
      ]
     },
     "metadata": {},
     "output_type": "display_data"
    },
    {
     "data": {
      "text/plain": [
       "[(0, array([ 0,  1,  4,  9, 16])), (1, array([25, 36, 49, 64, 81]))]"
      ]
     },
     "execution_count": 5,
     "metadata": {},
     "output_type": "execute_result"
    }
   ],
   "source": [
    "def squareme(x):\n",
    "    return np.power(x,2)\n",
    "\n",
    "items = np.array(list(range(10)))\n",
    "results = parallel(squareme, items,max_workers=2)\n",
    "results"
   ]
  },
  {
   "cell_type": "code",
   "execution_count": null,
   "metadata": {},
   "outputs": [],
   "source": []
  },
  {
   "cell_type": "markdown",
   "metadata": {},
   "source": [
    "# Final multi processing Decorator function"
   ]
  },
  {
   "cell_type": "code",
   "execution_count": 13,
   "metadata": {},
   "outputs": [],
   "source": [
    "from fastprogress import *\n",
    "from concurrent.futures import ProcessPoolExecutor\n",
    "import numpy as np\n",
    "import functools, operator, types"
   ]
  },
  {
   "cell_type": "code",
   "execution_count": 17,
   "metadata": {
    "scrolled": true
   },
   "outputs": [
    {
     "data": {
      "text/html": [
       "\n",
       "    <div>\n",
       "        <style>\n",
       "            /* Turns off some styling */\n",
       "            progress {\n",
       "                /* gets rid of default border in Firefox and Opera. */\n",
       "                border: none;\n",
       "                /* Needs to be in here for Safari polyfill so background images work as expected. */\n",
       "                background-size: auto;\n",
       "            }\n",
       "            .progress-bar-interrupted, .progress-bar-interrupted::-webkit-progress-bar {\n",
       "                background: #F44336;\n",
       "            }\n",
       "        </style>\n",
       "      <progress value='10' class='' max='10' style='width:300px; height:20px; vertical-align: middle;'></progress>\n",
       "      100.00% [10/10 00:00<00:00]\n",
       "    </div>\n",
       "    "
      ],
      "text/plain": [
       "<IPython.core.display.HTML object>"
      ]
     },
     "metadata": {},
     "output_type": "display_data"
    }
   ],
   "source": [
    "def helper_fn(func):\n",
    "    global inner_fn\n",
    "    def inner_fn(x):\n",
    "        i, x_i = x\n",
    "        return i, func(x_i)\n",
    "    return inner_fn\n",
    "\n",
    "def parallel(func, items, chunksize=None, max_workers=1):\n",
    "    \n",
    "    if isinstance(items, list):\n",
    "        if chunksize:\n",
    "            arr = [items[i: i+chunksize] for i in (range(0, len(items), chunksize))]\n",
    "        else:\n",
    "            chunksize = int(len(items)/max_workers)\n",
    "            arr = [items[i: i+chunksize] for i in (range(0, len(items), chunksize))]\n",
    "            \n",
    "    elif isinstance(items, np.ndarray):\n",
    "        if chunksize:\n",
    "            n_splits = int((items.shape[0]/chunksize)+0.5)\n",
    "            arr = np.array_split(items, n_splits)\n",
    "        else:\n",
    "            arr = np.array_split(items, max_workers)\n",
    "    \n",
    "    new_fn = helper_fn(func)\n",
    "    \n",
    "    if max_workers<2: results = list(progress_bar(map(new_fn, enumerate(arr)), total=len(arr)))\n",
    "    else:\n",
    "        with ProcessPoolExecutor(max_workers=max_workers) as ex:\n",
    "            return list(progress_bar(ex.map(new_fn, enumerate(arr)), total=len(arr)))\n",
    "    if any([o is not None for o in results]): return results\n",
    "\n",
    "\n",
    "def do_multiprocessing(f_py=None, chunksize=None, max_workers=1):\n",
    "    assert callable(f_py) or f_py is None\n",
    "    def _decorator(func):\n",
    "        @functools.wraps(func)\n",
    "        def wrapper(*args, **kwargs):\n",
    "            items = args[0]\n",
    "            results = parallel(func, items, chunksize=chunksize, max_workers=max_workers)\n",
    "            results = functools.reduce(operator.iconcat,[r[1] for r in results] , [])\n",
    "            return results\n",
    "        return wrapper\n",
    "    return _decorator(f_py) if callable(f_py) else _decorator\n",
    "\n",
    "@do_multiprocessing(chunksize=10, max_workers=2)\n",
    "def sample_fn(items):\n",
    "    rs = []\n",
    "    for i in items:\n",
    "         rs.append(i*i)\n",
    "    return rs\n",
    "\n",
    "items = np.array(list(range(100)))\n",
    "results = sample_fn(items)"
   ]
  },
  {
   "cell_type": "markdown",
   "metadata": {},
   "source": [
    "## Final multi processing Decorator class"
   ]
  },
  {
   "cell_type": "code",
   "execution_count": 12,
   "metadata": {},
   "outputs": [],
   "source": [
    "from fastprogress import *\n",
    "from concurrent.futures import ProcessPoolExecutor\n",
    "import numpy as np\n",
    "import functools, operator"
   ]
  },
  {
   "cell_type": "code",
   "execution_count": null,
   "metadata": {},
   "outputs": [],
   "source": [
    "def helper_fn(func):\n",
    "    global inner_fn\n",
    "    def inner_fn(x):\n",
    "        i, x_i = x\n",
    "        return i, func(x_i)\n",
    "    return inner_fn\n",
    "\n",
    "def parallel(func, items, chunksize=None, max_workers=1):\n",
    "    \n",
    "    if isinstance(items, list):\n",
    "        if chunksize:\n",
    "            arr = [items[i: i+chunksize] for i in (range(0, len(items), chunksize))]\n",
    "        else:\n",
    "            chunksize = int(len(items)/max_workers)\n",
    "            arr = [items[i: i+chunksize] for i in (range(0, len(items), chunksize))]\n",
    "            \n",
    "    elif isinstance(items, np.ndarray):\n",
    "        if chunksize:\n",
    "            n_splits = int((items.shape[0]/chunksize)+0.5)\n",
    "            arr = np.array_split(items, n_splits)\n",
    "        else:\n",
    "            arr = np.array_split(items, max_workers)\n",
    "    \n",
    "    new_fn = helper_fn(func)\n",
    "    \n",
    "    if max_workers<2: results = list(progress_bar(map(new_fn, enumerate(arr)), total=len(arr)))\n",
    "    else:\n",
    "        with ProcessPoolExecutor(max_workers=max_workers) as ex:\n",
    "            return list(progress_bar(ex.map(new_fn, enumerate(arr)), total=len(arr)))\n",
    "    if any([o is not None for o in results]): return results\n",
    "\n",
    "\n",
    "def do_multiprocessing(f_py=None, chunksize=None, max_workers=1):\n",
    "    assert callable(f_py) or f_py is None\n",
    "    def _decorator(func):\n",
    "        @functools.wraps(func)\n",
    "        def wrapper(*args, **kwargs):\n",
    "            results = parallel(func, items, chunksize=chunksize, max_workers=max_workers)\n",
    "            results = functools.reduce(operator.iconcat,[r[1] for r in results] , [])\n",
    "            return results\n",
    "        return wrapper\n",
    "    return _decorator(f_py) if callable(f_py) else _decorator\n",
    "\n",
    "\n",
    "class do_multiprocessing:\n",
    "    def __init__()"
   ]
  }
 ],
 "metadata": {
  "kernelspec": {
   "display_name": "Python 3.7.5 64-bit ('tf2_env': venv)",
   "language": "python",
   "name": "python37564bittf2envvenv9baad5f63bf544adb456767f347f0830"
  },
  "language_info": {
   "codemirror_mode": {
    "name": "ipython",
    "version": 3
   },
   "file_extension": ".py",
   "mimetype": "text/x-python",
   "name": "python",
   "nbconvert_exporter": "python",
   "pygments_lexer": "ipython3",
   "version": "3.7.5"
  }
 },
 "nbformat": 4,
 "nbformat_minor": 4
}
